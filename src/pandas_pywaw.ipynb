{
 "metadata": {
  "celltoolbar": "Slideshow",
  "name": "",
  "signature": "sha256:20710aae30e08d65feea5f63dd7e0f87055b963885920082eadba9aecfc8b8ab"
 },
 "nbformat": 3,
 "nbformat_minor": 0,
 "worksheets": [
  {
   "cells": [
    {
     "cell_type": "markdown",
     "metadata": {
      "slideshow": {
       "slide_type": "slide"
      }
     },
     "source": [
      "# Czego nauczy\u0142em si\u0119 pracuj\u0105c z pandas\n",
      "\n",
      "----\n",
      "\n",
      "<br/>\n",
      "\n",
      "## Autor\n",
      "Pawe\u0142 Romanowski - [http://github.com/pawroman](http://github.com/pawroman)\n",
      "\n",
      "<br/>\n",
      "\n",
      "![](img/daftcode.png)\n",
      "\n",
      "[http://daftcode.pl](http://daftcode.pl)"
     ]
    },
    {
     "cell_type": "markdown",
     "metadata": {
      "slideshow": {
       "slide_type": "slide"
      }
     },
     "source": [
      "# Agenda\n",
      "\n",
      "----"
     ]
    },
    {
     "cell_type": "markdown",
     "metadata": {
      "slideshow": {
       "slide_type": "fragment"
      }
     },
     "source": [
      "* Czym jest pandas?"
     ]
    },
    {
     "cell_type": "markdown",
     "metadata": {
      "slideshow": {
       "slide_type": "fragment"
      }
     },
     "source": [
      "* Zastosowania, funkcjonalno\u015b\u0107"
     ]
    },
    {
     "cell_type": "markdown",
     "metadata": {
      "slideshow": {
       "slide_type": "fragment"
      }
     },
     "source": [
      "* Przyk\u0142ady"
     ]
    },
    {
     "cell_type": "markdown",
     "metadata": {
      "slideshow": {
       "slide_type": "fragment"
      }
     },
     "source": [
      "* Moje do\u015bwiadczenia i wskaz\u00f3wki"
     ]
    },
    {
     "cell_type": "markdown",
     "metadata": {
      "slideshow": {
       "slide_type": "notes"
      }
     },
     "source": [
      "- Zaczn\u0119 od tego, co sk\u0142ada si\u0119 na pandas i jakie s\u0105 zalety tej biblioteki\n",
      "- Nast\u0119pnie opowiem kr\u00f3tko o dziedzinie zastosowa\u0144 i funkcjonalno\u015bci, czyli do czego mo\u017cna u\u017cywa\u0107 pandas\n",
      "- Przedstawi\u0119 kilka prostych, praktycznych przyk\u0142ad\u00f3w ilustruj\u0105cych podstawow\u0105 funkcjonalno\u015b\u0107\n",
      "- Wreszcie: opowiem o moich do\u015bwiadczeniach i wnioskach, jakie z nich p\u0142yn\u0105 i jakie uwa\u017cam, \u017ce warto przekaza\u0107"
     ]
    },
    {
     "cell_type": "markdown",
     "metadata": {
      "slideshow": {
       "slide_type": "slide"
      }
     },
     "source": [
      "# Czym jest pandas?\n",
      "\n",
      "----"
     ]
    },
    {
     "cell_type": "markdown",
     "metadata": {
      "slideshow": {
       "slide_type": "fragment"
      }
     },
     "source": [
      "* Tabelaryczne struktury danych + operacje na nich"
     ]
    },
    {
     "cell_type": "markdown",
     "metadata": {
      "slideshow": {
       "slide_type": "fragment"
      }
     },
     "source": [
      "* Wygodna manipulacja danymi"
     ]
    },
    {
     "cell_type": "markdown",
     "metadata": {
      "slideshow": {
       "slide_type": "fragment"
      }
     },
     "source": [
      "* Dobre wsparcie dla \"timeseries\" i danych typu N/A"
     ]
    },
    {
     "cell_type": "markdown",
     "metadata": {
      "slideshow": {
       "slide_type": "fragment"
      }
     },
     "source": [
      "* Wydajno\u015b\u0107"
     ]
    },
    {
     "cell_type": "markdown",
     "metadata": {
      "slideshow": {
       "slide_type": "fragment"
      }
     },
     "source": [
      "* U\u017cywa NumPy, cz\u0119\u015b\u0107 stacku SciPy (NumPy, SciPy, matplotlib, SymPy, IPython)"
     ]
    },
    {
     "cell_type": "markdown",
     "metadata": {
      "slideshow": {
       "slide_type": "fragment"
      }
     },
     "source": [
      "* *\"(...) it has the broader goal of becoming the **most powerful and flexible open source data analysis / manipulation tool available in any language**. It is already well on its way toward this goal.\"*"
     ]
    },
    {
     "cell_type": "markdown",
     "metadata": {
      "slideshow": {
       "slide_type": "notes"
      }
     },
     "source": [
      "Notki\n",
      "----\n",
      "\n",
      "- pandas to przede wszystkim struktury danych, do reprezentacji danych jedno-dwu i trzy-wymiarowych, oraz algorytmy z nimi zwi\u0105zane - do oblicze\u0144 numerycznych, statystycznych i innych\n",
      "- struktury pandas maj\u0105 sp\u00f3jne API, a spory nacisk postawiono na wygod\u0119 i funkcjonalno\u015b\u0107 manipulacji danych\n",
      "- bardzo dobre wsparcie dla danych czasowych, tak\u017ce bezproblemowa obs\u0142uga danych brakuj\u0105cych - tzn. mo\u017cemy bezstresowo \u0142adowa\u0107 niesp\u00f3jne dane, a to czego brakuje wyfiltrowa\u0107, pomin\u0105\u0107, lub wype\u0142ni\u0107, a nawet interpolowa\u0107\n",
      "- wydajno\u015b\u0107 - pandas jest pisane z du\u017cym naciskiem na wydajno\u015b\u0107, wi\u0119kszo\u015b\u0107 modu\u0142\u00f3w powsta\u0142o w Cythonie i u\u017cywaj\u0105c API NumPy, aby by\u0142o jak najszybciej\n",
      "- pandas u\u017cywa intensywnie numpy - dane numeryczne s\u0105 przechowywane jako wydajne array'e numpy, i jest cz\u0119\u015bci\u0105 ca\u0142ego takiego ekosystemu naukowego pythona, narz\u0119dzia te si\u0119 zwykle lubi\u0105, dobrze integruj\u0105 i pandas oficjalnie wpasowuje si\u0119 w ten stack, daj\u0105c nam ogromne mo\u017cliwo\u015bci\n",
      "- tutaj taki cytat z oficjalnej dokumentacji: pandas chce by\u0107 najbardziej funkcjonalnym i elastycznym narz\u0119dziem do analizy i manipulacji danych open source - by\u0107 mo\u017ce jest to stwierdzenie troch\u0119 na wyrost, ale por\u00f3wnuj\u0105c pandas np. z j\u0119zykiem R - zdaje si\u0119 \u017ce jest to uzasadnione i pokryte praktyk\u0105"
     ]
    },
    {
     "cell_type": "markdown",
     "metadata": {
      "slideshow": {
       "slide_type": "slide"
      }
     },
     "source": [
      "# Zastosowania\n",
      "\n",
      "----"
     ]
    },
    {
     "cell_type": "markdown",
     "metadata": {
      "slideshow": {
       "slide_type": "fragment"
      }
     },
     "source": [
      "* Analiza, eksploracja danych"
     ]
    },
    {
     "cell_type": "markdown",
     "metadata": {
      "slideshow": {
       "slide_type": "fragment"
      }
     },
     "source": [
      "* Pre-processing, filtrowanie, oczyszczanie danych"
     ]
    },
    {
     "cell_type": "markdown",
     "metadata": {
      "slideshow": {
       "slide_type": "fragment"
      }
     },
     "source": [
      "* Obliczenia statystyczne, agregacja"
     ]
    },
    {
     "cell_type": "markdown",
     "metadata": {
      "slideshow": {
       "slide_type": "fragment"
      }
     },
     "source": [
      "* Raportowanie, wykresy"
     ]
    },
    {
     "cell_type": "markdown",
     "metadata": {
      "slideshow": {
       "slide_type": "fragment"
      }
     },
     "source": [
      "* (W moim przypadku) analiza i grupowanie danych z/do MongoDB"
     ]
    },
    {
     "cell_type": "markdown",
     "metadata": {
      "slideshow": {
       "slide_type": "notes"
      }
     },
     "source": [
      "Notki\n",
      "----\n",
      "\n",
      "- analiza, eksploracja danych - gdy chcemy podsumowa\u0107 dane, wydoby\u0107 z nich interesuj\u0105ce fakty i zobaczy\u0107 \"co tam jest\"\n",
      "- pre-processing - przygotowanie danych do prezentacji dla ludzi, filtrowanie tylko tego, co nas interesuje, usuwanie nieinteresuj\u0105cych, usuwanie, wype\u0142nianie czy interpolacja danych brakuj\u0105cych\n",
      "- obliczenia statystyczne - pod tym has\u0142em wszelkie przer\u00f3\u017cne obliczenia statystyczne, w tym sumy cz\u0119\u015bciowe, \u015brednie krocz\u0105ce, odchylenie standardowe, agregacja, tj grupowanie danych i obliczenia grupowe\n",
      "- raportowanie - czy chcemy wyeksportowa\u0107 dane do formatu typu CSV, excel, czy narysowa\u0107 na szybko jaki\u015b wykres - pandas sprawdza si\u0119 znakomicie\n",
      "- w moim przypadku, to do czego ostatnio u\u017cywam pandas to analiza i grupowanie danych w API korzystaj\u0105cym z bazy mongoDB. Do tworzenia agregat\u00f3w i prostych modyfikacji zwracanych danych"
     ]
    },
    {
     "cell_type": "code",
     "collapsed": false,
     "input": [
      "posts_data = [\n",
      "    {\"id\": 1, \"ts\": \"2014-01-01T10:00\", \"name\": \"Zbychu\",\n",
      "     \"message\": \"hello world\", \"likes\": 16},\n",
      "\n",
      "    {\"id\": 2, \"ts\": \"2014-01-01T13:37\", \"name\": \"Zbychu\",\n",
      "     \"likes\": 20},\n",
      "\n",
      "    {\"id\": 3, \"ts\": \"2014-01-01T15:35\", \"name\": \"biedny student\",\n",
      "     \"message\": \"pandas 3 bardzo prosz\u0119 pls\", \"likes\": 3},\n",
      "\n",
      "    {\"id\": 4, \"ts\": \"2014-01-02T19:42\", \"name\": \"julius_caesar\",\n",
      "     \"message\": \"veni, vidi, vici\", \"likes\": 22},\n",
      "\n",
      "    {\"id\": 5, \"ts\": \"2014-02-04T12:02\", \"name\": \"julius_caesar\",\n",
      "     \"message\": \"co\u015b po \u0142acinie\", \"likes\": 10},\n",
      "\n",
      "    {\"id\": 6, \"ts\": \"2014-04-15T23:15\", \"name\": \"kotek\",\n",
      "     \"message\": \"miau miau miau bardzo miau\", \"likes\": 5},\n",
      "\n",
      "    {\"id\": 7, \"ts\": \"2014-04-15T18:30\", \"name\": \"Zbychu\",\n",
      "     \"message\": \"hello pandas hello hello\", \"likes\": 7},\n",
      "]"
     ],
     "language": "python",
     "metadata": {
      "slideshow": {
       "slide_type": "slide"
      }
     },
     "outputs": [],
     "prompt_number": 1
    },
    {
     "cell_type": "markdown",
     "metadata": {
      "slideshow": {
       "slide_type": "slide"
      }
     },
     "source": [
      "## \u0141adowanie danych\n",
      "----"
     ]
    },
    {
     "cell_type": "code",
     "collapsed": false,
     "input": [
      "import pandas\n",
      "\n",
      "posts = pandas.DataFrame(posts_data)\n",
      "posts"
     ],
     "language": "python",
     "metadata": {
      "slideshow": {
       "slide_type": "fragment"
      }
     },
     "outputs": [
      {
       "html": [
        "<div style=\"max-height:1000px;max-width:1500px;overflow:auto;\">\n",
        "<table border=\"1\" class=\"dataframe\">\n",
        "  <thead>\n",
        "    <tr style=\"text-align: right;\">\n",
        "      <th></th>\n",
        "      <th>id</th>\n",
        "      <th>likes</th>\n",
        "      <th>message</th>\n",
        "      <th>name</th>\n",
        "      <th>ts</th>\n",
        "    </tr>\n",
        "  </thead>\n",
        "  <tbody>\n",
        "    <tr>\n",
        "      <th>0</th>\n",
        "      <td> 1</td>\n",
        "      <td> 16</td>\n",
        "      <td>                hello world</td>\n",
        "      <td>         Zbychu</td>\n",
        "      <td> 2014-01-01T10:00</td>\n",
        "    </tr>\n",
        "    <tr>\n",
        "      <th>1</th>\n",
        "      <td> 2</td>\n",
        "      <td> 20</td>\n",
        "      <td>                        NaN</td>\n",
        "      <td>         Zbychu</td>\n",
        "      <td> 2014-01-01T13:37</td>\n",
        "    </tr>\n",
        "    <tr>\n",
        "      <th>2</th>\n",
        "      <td> 3</td>\n",
        "      <td>  3</td>\n",
        "      <td> pandas 3 bardzo prosz\u0119 pls</td>\n",
        "      <td> biedny student</td>\n",
        "      <td> 2014-01-01T15:35</td>\n",
        "    </tr>\n",
        "    <tr>\n",
        "      <th>3</th>\n",
        "      <td> 4</td>\n",
        "      <td> 22</td>\n",
        "      <td>           veni, vidi, vici</td>\n",
        "      <td>  julius_caesar</td>\n",
        "      <td> 2014-01-02T19:42</td>\n",
        "    </tr>\n",
        "    <tr>\n",
        "      <th>4</th>\n",
        "      <td> 5</td>\n",
        "      <td> 10</td>\n",
        "      <td>             co\u015b po \u0142acinie</td>\n",
        "      <td>  julius_caesar</td>\n",
        "      <td> 2014-02-04T12:02</td>\n",
        "    </tr>\n",
        "    <tr>\n",
        "      <th>5</th>\n",
        "      <td> 6</td>\n",
        "      <td>  5</td>\n",
        "      <td> miau miau miau bardzo miau</td>\n",
        "      <td>          kotek</td>\n",
        "      <td> 2014-04-15T23:15</td>\n",
        "    </tr>\n",
        "    <tr>\n",
        "      <th>6</th>\n",
        "      <td> 7</td>\n",
        "      <td>  7</td>\n",
        "      <td>   hello pandas hello hello</td>\n",
        "      <td>         Zbychu</td>\n",
        "      <td> 2014-04-15T18:30</td>\n",
        "    </tr>\n",
        "  </tbody>\n",
        "</table>\n",
        "<p>7 rows \u00d7 5 columns</p>\n",
        "</div>"
       ],
       "metadata": {},
       "output_type": "pyout",
       "prompt_number": 2,
       "text": [
        "   id  likes                     message            name                ts\n",
        "0   1     16                 hello world          Zbychu  2014-01-01T10:00\n",
        "1   2     20                         NaN          Zbychu  2014-01-01T13:37\n",
        "2   3      3  pandas 3 bardzo prosz\u0119 pls  biedny student  2014-01-01T15:35\n",
        "3   4     22            veni, vidi, vici   julius_caesar  2014-01-02T19:42\n",
        "4   5     10              co\u015b po \u0142acinie   julius_caesar  2014-02-04T12:02\n",
        "5   6      5  miau miau miau bardzo miau           kotek  2014-04-15T23:15\n",
        "6   7      7    hello pandas hello hello          Zbychu  2014-04-15T18:30\n",
        "\n",
        "[7 rows x 5 columns]"
       ]
      }
     ],
     "prompt_number": 2
    },
    {
     "cell_type": "markdown",
     "metadata": {
      "slideshow": {
       "slide_type": "slide"
      }
     },
     "source": [
      "## Sortowanie, wype\u0142nianie N/A\n",
      "----"
     ]
    },
    {
     "cell_type": "code",
     "collapsed": false,
     "input": [
      "posts = posts.sort(\"likes\", ascending=False).fillna(\"[ No Comment ]\")\n",
      "posts"
     ],
     "language": "python",
     "metadata": {
      "slideshow": {
       "slide_type": "fragment"
      }
     },
     "outputs": [
      {
       "html": [
        "<div style=\"max-height:1000px;max-width:1500px;overflow:auto;\">\n",
        "<table border=\"1\" class=\"dataframe\">\n",
        "  <thead>\n",
        "    <tr style=\"text-align: right;\">\n",
        "      <th></th>\n",
        "      <th>id</th>\n",
        "      <th>likes</th>\n",
        "      <th>message</th>\n",
        "      <th>name</th>\n",
        "      <th>ts</th>\n",
        "    </tr>\n",
        "  </thead>\n",
        "  <tbody>\n",
        "    <tr>\n",
        "      <th>3</th>\n",
        "      <td> 4</td>\n",
        "      <td> 22</td>\n",
        "      <td>           veni, vidi, vici</td>\n",
        "      <td>  julius_caesar</td>\n",
        "      <td> 2014-01-02T19:42</td>\n",
        "    </tr>\n",
        "    <tr>\n",
        "      <th>1</th>\n",
        "      <td> 2</td>\n",
        "      <td> 20</td>\n",
        "      <td>             [ No Comment ]</td>\n",
        "      <td>         Zbychu</td>\n",
        "      <td> 2014-01-01T13:37</td>\n",
        "    </tr>\n",
        "    <tr>\n",
        "      <th>0</th>\n",
        "      <td> 1</td>\n",
        "      <td> 16</td>\n",
        "      <td>                hello world</td>\n",
        "      <td>         Zbychu</td>\n",
        "      <td> 2014-01-01T10:00</td>\n",
        "    </tr>\n",
        "    <tr>\n",
        "      <th>4</th>\n",
        "      <td> 5</td>\n",
        "      <td> 10</td>\n",
        "      <td>             co\u015b po \u0142acinie</td>\n",
        "      <td>  julius_caesar</td>\n",
        "      <td> 2014-02-04T12:02</td>\n",
        "    </tr>\n",
        "    <tr>\n",
        "      <th>6</th>\n",
        "      <td> 7</td>\n",
        "      <td>  7</td>\n",
        "      <td>   hello pandas hello hello</td>\n",
        "      <td>         Zbychu</td>\n",
        "      <td> 2014-04-15T18:30</td>\n",
        "    </tr>\n",
        "    <tr>\n",
        "      <th>5</th>\n",
        "      <td> 6</td>\n",
        "      <td>  5</td>\n",
        "      <td> miau miau miau bardzo miau</td>\n",
        "      <td>          kotek</td>\n",
        "      <td> 2014-04-15T23:15</td>\n",
        "    </tr>\n",
        "    <tr>\n",
        "      <th>2</th>\n",
        "      <td> 3</td>\n",
        "      <td>  3</td>\n",
        "      <td> pandas 3 bardzo prosz\u0119 pls</td>\n",
        "      <td> biedny student</td>\n",
        "      <td> 2014-01-01T15:35</td>\n",
        "    </tr>\n",
        "  </tbody>\n",
        "</table>\n",
        "<p>7 rows \u00d7 5 columns</p>\n",
        "</div>"
       ],
       "metadata": {},
       "output_type": "pyout",
       "prompt_number": 3,
       "text": [
        "   id  likes                     message            name                ts\n",
        "3   4     22            veni, vidi, vici   julius_caesar  2014-01-02T19:42\n",
        "1   2     20              [ No Comment ]          Zbychu  2014-01-01T13:37\n",
        "0   1     16                 hello world          Zbychu  2014-01-01T10:00\n",
        "4   5     10              co\u015b po \u0142acinie   julius_caesar  2014-02-04T12:02\n",
        "6   7      7    hello pandas hello hello          Zbychu  2014-04-15T18:30\n",
        "5   6      5  miau miau miau bardzo miau           kotek  2014-04-15T23:15\n",
        "2   3      3  pandas 3 bardzo prosz\u0119 pls  biedny student  2014-01-01T15:35\n",
        "\n",
        "[7 rows x 5 columns]"
       ]
      }
     ],
     "prompt_number": 3
    },
    {
     "cell_type": "markdown",
     "metadata": {
      "slideshow": {
       "slide_type": "slide"
      }
     },
     "source": [
      "## Selekcja, przypisanie\n",
      "----"
     ]
    },
    {
     "cell_type": "code",
     "collapsed": false,
     "input": [
      "posts.loc[posts.likes >= 10, \"message\"] = posts[\"message\"].str.decode(\"utf8\").str.upper()\n",
      "posts"
     ],
     "language": "python",
     "metadata": {
      "slideshow": {
       "slide_type": "fragment"
      }
     },
     "outputs": [
      {
       "html": [
        "<div style=\"max-height:1000px;max-width:1500px;overflow:auto;\">\n",
        "<table border=\"1\" class=\"dataframe\">\n",
        "  <thead>\n",
        "    <tr style=\"text-align: right;\">\n",
        "      <th></th>\n",
        "      <th>id</th>\n",
        "      <th>likes</th>\n",
        "      <th>message</th>\n",
        "      <th>name</th>\n",
        "      <th>ts</th>\n",
        "    </tr>\n",
        "  </thead>\n",
        "  <tbody>\n",
        "    <tr>\n",
        "      <th>3</th>\n",
        "      <td> 4</td>\n",
        "      <td> 22</td>\n",
        "      <td>           VENI, VIDI, VICI</td>\n",
        "      <td>  julius_caesar</td>\n",
        "      <td> 2014-01-02T19:42</td>\n",
        "    </tr>\n",
        "    <tr>\n",
        "      <th>1</th>\n",
        "      <td> 2</td>\n",
        "      <td> 20</td>\n",
        "      <td>             [ NO COMMENT ]</td>\n",
        "      <td>         Zbychu</td>\n",
        "      <td> 2014-01-01T13:37</td>\n",
        "    </tr>\n",
        "    <tr>\n",
        "      <th>0</th>\n",
        "      <td> 1</td>\n",
        "      <td> 16</td>\n",
        "      <td>                HELLO WORLD</td>\n",
        "      <td>         Zbychu</td>\n",
        "      <td> 2014-01-01T10:00</td>\n",
        "    </tr>\n",
        "    <tr>\n",
        "      <th>4</th>\n",
        "      <td> 5</td>\n",
        "      <td> 10</td>\n",
        "      <td>             CO\u015a PO \u0141ACINIE</td>\n",
        "      <td>  julius_caesar</td>\n",
        "      <td> 2014-02-04T12:02</td>\n",
        "    </tr>\n",
        "    <tr>\n",
        "      <th>6</th>\n",
        "      <td> 7</td>\n",
        "      <td>  7</td>\n",
        "      <td>   hello pandas hello hello</td>\n",
        "      <td>         Zbychu</td>\n",
        "      <td> 2014-04-15T18:30</td>\n",
        "    </tr>\n",
        "    <tr>\n",
        "      <th>5</th>\n",
        "      <td> 6</td>\n",
        "      <td>  5</td>\n",
        "      <td> miau miau miau bardzo miau</td>\n",
        "      <td>          kotek</td>\n",
        "      <td> 2014-04-15T23:15</td>\n",
        "    </tr>\n",
        "    <tr>\n",
        "      <th>2</th>\n",
        "      <td> 3</td>\n",
        "      <td>  3</td>\n",
        "      <td> pandas 3 bardzo prosz\u0119 pls</td>\n",
        "      <td> biedny student</td>\n",
        "      <td> 2014-01-01T15:35</td>\n",
        "    </tr>\n",
        "  </tbody>\n",
        "</table>\n",
        "<p>7 rows \u00d7 5 columns</p>\n",
        "</div>"
       ],
       "metadata": {},
       "output_type": "pyout",
       "prompt_number": 4,
       "text": [
        "   id  likes                     message            name                ts\n",
        "3   4     22            VENI, VIDI, VICI   julius_caesar  2014-01-02T19:42\n",
        "1   2     20              [ NO COMMENT ]          Zbychu  2014-01-01T13:37\n",
        "0   1     16                 HELLO WORLD          Zbychu  2014-01-01T10:00\n",
        "4   5     10              CO\u015a PO \u0141ACINIE   julius_caesar  2014-02-04T12:02\n",
        "6   7      7    hello pandas hello hello          Zbychu  2014-04-15T18:30\n",
        "5   6      5  miau miau miau bardzo miau           kotek  2014-04-15T23:15\n",
        "2   3      3  pandas 3 bardzo prosz\u0119 pls  biedny student  2014-01-01T15:35\n",
        "\n",
        "[7 rows x 5 columns]"
       ]
      }
     ],
     "prompt_number": 4
    },
    {
     "cell_type": "markdown",
     "metadata": {
      "slideshow": {
       "slide_type": "slide"
      }
     },
     "source": [
      "## Index\n",
      "----"
     ]
    },
    {
     "cell_type": "code",
     "collapsed": false,
     "input": [
      "posts_id = posts.set_index(\"id\")\n",
      "posts_id.sort_index().ix[3:6]"
     ],
     "language": "python",
     "metadata": {
      "slideshow": {
       "slide_type": "fragment"
      }
     },
     "outputs": [
      {
       "html": [
        "<div style=\"max-height:1000px;max-width:1500px;overflow:auto;\">\n",
        "<table border=\"1\" class=\"dataframe\">\n",
        "  <thead>\n",
        "    <tr style=\"text-align: right;\">\n",
        "      <th></th>\n",
        "      <th>likes</th>\n",
        "      <th>message</th>\n",
        "      <th>name</th>\n",
        "      <th>ts</th>\n",
        "    </tr>\n",
        "    <tr>\n",
        "      <th>id</th>\n",
        "      <th></th>\n",
        "      <th></th>\n",
        "      <th></th>\n",
        "      <th></th>\n",
        "    </tr>\n",
        "  </thead>\n",
        "  <tbody>\n",
        "    <tr>\n",
        "      <th>3</th>\n",
        "      <td>  3</td>\n",
        "      <td> pandas 3 bardzo prosz\u0119 pls</td>\n",
        "      <td> biedny student</td>\n",
        "      <td> 2014-01-01T15:35</td>\n",
        "    </tr>\n",
        "    <tr>\n",
        "      <th>4</th>\n",
        "      <td> 22</td>\n",
        "      <td>           VENI, VIDI, VICI</td>\n",
        "      <td>  julius_caesar</td>\n",
        "      <td> 2014-01-02T19:42</td>\n",
        "    </tr>\n",
        "    <tr>\n",
        "      <th>5</th>\n",
        "      <td> 10</td>\n",
        "      <td>             CO\u015a PO \u0141ACINIE</td>\n",
        "      <td>  julius_caesar</td>\n",
        "      <td> 2014-02-04T12:02</td>\n",
        "    </tr>\n",
        "    <tr>\n",
        "      <th>6</th>\n",
        "      <td>  5</td>\n",
        "      <td> miau miau miau bardzo miau</td>\n",
        "      <td>          kotek</td>\n",
        "      <td> 2014-04-15T23:15</td>\n",
        "    </tr>\n",
        "  </tbody>\n",
        "</table>\n",
        "<p>4 rows \u00d7 4 columns</p>\n",
        "</div>"
       ],
       "metadata": {},
       "output_type": "pyout",
       "prompt_number": 5,
       "text": [
        "    likes                     message            name                ts\n",
        "id                                                                     \n",
        "3       3  pandas 3 bardzo prosz\u0119 pls  biedny student  2014-01-01T15:35\n",
        "4      22            VENI, VIDI, VICI   julius_caesar  2014-01-02T19:42\n",
        "5      10              CO\u015a PO \u0141ACINIE   julius_caesar  2014-02-04T12:02\n",
        "6       5  miau miau miau bardzo miau           kotek  2014-04-15T23:15\n",
        "\n",
        "[4 rows x 4 columns]"
       ]
      }
     ],
     "prompt_number": 5
    },
    {
     "cell_type": "markdown",
     "metadata": {
      "slideshow": {
       "slide_type": "slide"
      }
     },
     "source": [
      "## Datetime index\n",
      "----"
     ]
    },
    {
     "cell_type": "code",
     "collapsed": false,
     "input": [
      "posts_ts = posts.set_index(\"ts\").sort_index()\n",
      "posts_ts.index = posts_ts.index.to_datetime()"
     ],
     "language": "python",
     "metadata": {
      "slideshow": {
       "slide_type": "fragment"
      }
     },
     "outputs": [],
     "prompt_number": 6
    },
    {
     "cell_type": "code",
     "collapsed": false,
     "input": [
      "posts_ts.ix[\"2014-01-01 12:00\":\"2014-01-01T16:00\"]"
     ],
     "language": "python",
     "metadata": {
      "slideshow": {
       "slide_type": "fragment"
      }
     },
     "outputs": [
      {
       "html": [
        "<div style=\"max-height:1000px;max-width:1500px;overflow:auto;\">\n",
        "<table border=\"1\" class=\"dataframe\">\n",
        "  <thead>\n",
        "    <tr style=\"text-align: right;\">\n",
        "      <th></th>\n",
        "      <th>id</th>\n",
        "      <th>likes</th>\n",
        "      <th>message</th>\n",
        "      <th>name</th>\n",
        "    </tr>\n",
        "  </thead>\n",
        "  <tbody>\n",
        "    <tr>\n",
        "      <th>2014-01-01 13:37:00</th>\n",
        "      <td> 2</td>\n",
        "      <td> 20</td>\n",
        "      <td>             [ NO COMMENT ]</td>\n",
        "      <td>         Zbychu</td>\n",
        "    </tr>\n",
        "    <tr>\n",
        "      <th>2014-01-01 15:35:00</th>\n",
        "      <td> 3</td>\n",
        "      <td>  3</td>\n",
        "      <td> pandas 3 bardzo prosz\u0119 pls</td>\n",
        "      <td> biedny student</td>\n",
        "    </tr>\n",
        "  </tbody>\n",
        "</table>\n",
        "<p>2 rows \u00d7 4 columns</p>\n",
        "</div>"
       ],
       "metadata": {},
       "output_type": "pyout",
       "prompt_number": 7,
       "text": [
        "                     id  likes                     message            name\n",
        "2014-01-01 13:37:00   2     20              [ NO COMMENT ]          Zbychu\n",
        "2014-01-01 15:35:00   3      3  pandas 3 bardzo prosz\u0119 pls  biedny student\n",
        "\n",
        "[2 rows x 4 columns]"
       ]
      }
     ],
     "prompt_number": 7
    },
    {
     "cell_type": "markdown",
     "metadata": {
      "slideshow": {
       "slide_type": "slide"
      }
     },
     "source": [
      "## Strefy czasowe\n",
      "----"
     ]
    },
    {
     "cell_type": "code",
     "collapsed": false,
     "input": [
      "posts_warsaw = posts_ts.tz_localize(\"UTC\").tz_convert(\"Europe/Warsaw\")\n",
      "posts_warsaw"
     ],
     "language": "python",
     "metadata": {
      "slideshow": {
       "slide_type": "fragment"
      }
     },
     "outputs": [
      {
       "html": [
        "<div style=\"max-height:1000px;max-width:1500px;overflow:auto;\">\n",
        "<table border=\"1\" class=\"dataframe\">\n",
        "  <thead>\n",
        "    <tr style=\"text-align: right;\">\n",
        "      <th></th>\n",
        "      <th>id</th>\n",
        "      <th>likes</th>\n",
        "      <th>message</th>\n",
        "      <th>name</th>\n",
        "    </tr>\n",
        "  </thead>\n",
        "  <tbody>\n",
        "    <tr>\n",
        "      <th>2014-01-01 11:00:00+01:00</th>\n",
        "      <td> 1</td>\n",
        "      <td> 16</td>\n",
        "      <td>                HELLO WORLD</td>\n",
        "      <td>         Zbychu</td>\n",
        "    </tr>\n",
        "    <tr>\n",
        "      <th>2014-01-01 14:37:00+01:00</th>\n",
        "      <td> 2</td>\n",
        "      <td> 20</td>\n",
        "      <td>             [ NO COMMENT ]</td>\n",
        "      <td>         Zbychu</td>\n",
        "    </tr>\n",
        "    <tr>\n",
        "      <th>2014-01-01 16:35:00+01:00</th>\n",
        "      <td> 3</td>\n",
        "      <td>  3</td>\n",
        "      <td> pandas 3 bardzo prosz\u0119 pls</td>\n",
        "      <td> biedny student</td>\n",
        "    </tr>\n",
        "    <tr>\n",
        "      <th>2014-01-02 20:42:00+01:00</th>\n",
        "      <td> 4</td>\n",
        "      <td> 22</td>\n",
        "      <td>           VENI, VIDI, VICI</td>\n",
        "      <td>  julius_caesar</td>\n",
        "    </tr>\n",
        "    <tr>\n",
        "      <th>2014-02-04 13:02:00+01:00</th>\n",
        "      <td> 5</td>\n",
        "      <td> 10</td>\n",
        "      <td>             CO\u015a PO \u0141ACINIE</td>\n",
        "      <td>  julius_caesar</td>\n",
        "    </tr>\n",
        "    <tr>\n",
        "      <th>2014-04-15 20:30:00+02:00</th>\n",
        "      <td> 7</td>\n",
        "      <td>  7</td>\n",
        "      <td>   hello pandas hello hello</td>\n",
        "      <td>         Zbychu</td>\n",
        "    </tr>\n",
        "    <tr>\n",
        "      <th>2014-04-16 01:15:00+02:00</th>\n",
        "      <td> 6</td>\n",
        "      <td>  5</td>\n",
        "      <td> miau miau miau bardzo miau</td>\n",
        "      <td>          kotek</td>\n",
        "    </tr>\n",
        "  </tbody>\n",
        "</table>\n",
        "<p>7 rows \u00d7 4 columns</p>\n",
        "</div>"
       ],
       "metadata": {},
       "output_type": "pyout",
       "prompt_number": 8,
       "text": [
        "                           id  likes                     message  \\\n",
        "2014-01-01 11:00:00+01:00   1     16                 HELLO WORLD   \n",
        "2014-01-01 14:37:00+01:00   2     20              [ NO COMMENT ]   \n",
        "2014-01-01 16:35:00+01:00   3      3  pandas 3 bardzo prosz\u0119 pls   \n",
        "2014-01-02 20:42:00+01:00   4     22            VENI, VIDI, VICI   \n",
        "2014-02-04 13:02:00+01:00   5     10              CO\u015a PO \u0141ACINIE   \n",
        "2014-04-15 20:30:00+02:00   7      7    hello pandas hello hello   \n",
        "2014-04-16 01:15:00+02:00   6      5  miau miau miau bardzo miau   \n",
        "\n",
        "                                     name  \n",
        "2014-01-01 11:00:00+01:00          Zbychu  \n",
        "2014-01-01 14:37:00+01:00          Zbychu  \n",
        "2014-01-01 16:35:00+01:00  biedny student  \n",
        "2014-01-02 20:42:00+01:00   julius_caesar  \n",
        "2014-02-04 13:02:00+01:00   julius_caesar  \n",
        "2014-04-15 20:30:00+02:00          Zbychu  \n",
        "2014-04-16 01:15:00+02:00           kotek  \n",
        "\n",
        "[7 rows x 4 columns]"
       ]
      }
     ],
     "prompt_number": 8
    },
    {
     "cell_type": "markdown",
     "metadata": {
      "slideshow": {
       "slide_type": "slide"
      }
     },
     "source": [
      "## Resample\n",
      "----"
     ]
    },
    {
     "cell_type": "code",
     "collapsed": false,
     "input": [
      "posts_by_day = posts_ts.resample(\"D\", how=\"sum\").dropna()\n",
      "posts_by_day"
     ],
     "language": "python",
     "metadata": {
      "slideshow": {
       "slide_type": "fragment"
      }
     },
     "outputs": [
      {
       "html": [
        "<div style=\"max-height:1000px;max-width:1500px;overflow:auto;\">\n",
        "<table border=\"1\" class=\"dataframe\">\n",
        "  <thead>\n",
        "    <tr style=\"text-align: right;\">\n",
        "      <th></th>\n",
        "      <th>id</th>\n",
        "      <th>likes</th>\n",
        "    </tr>\n",
        "  </thead>\n",
        "  <tbody>\n",
        "    <tr>\n",
        "      <th>2014-01-01</th>\n",
        "      <td>  6</td>\n",
        "      <td> 39</td>\n",
        "    </tr>\n",
        "    <tr>\n",
        "      <th>2014-01-02</th>\n",
        "      <td>  4</td>\n",
        "      <td> 22</td>\n",
        "    </tr>\n",
        "    <tr>\n",
        "      <th>2014-02-04</th>\n",
        "      <td>  5</td>\n",
        "      <td> 10</td>\n",
        "    </tr>\n",
        "    <tr>\n",
        "      <th>2014-04-15</th>\n",
        "      <td> 13</td>\n",
        "      <td> 12</td>\n",
        "    </tr>\n",
        "  </tbody>\n",
        "</table>\n",
        "<p>4 rows \u00d7 2 columns</p>\n",
        "</div>"
       ],
       "metadata": {},
       "output_type": "pyout",
       "prompt_number": 9,
       "text": [
        "            id  likes\n",
        "2014-01-01   6     39\n",
        "2014-01-02   4     22\n",
        "2014-02-04   5     10\n",
        "2014-04-15  13     12\n",
        "\n",
        "[4 rows x 2 columns]"
       ]
      }
     ],
     "prompt_number": 9
    },
    {
     "cell_type": "markdown",
     "metadata": {
      "slideshow": {
       "slide_type": "slide"
      }
     },
     "source": [
      "## Reshaping\n",
      "----"
     ]
    },
    {
     "cell_type": "code",
     "collapsed": false,
     "input": [
      "by_month = posts_ts.pivot_table(\n",
      "    \"likes\", cols=\"name\", rows=posts_ts.index\n",
      ").resample(\"M\", how=\"sum\").sort_index(ascending=False)\n",
      "\n",
      "by_month"
     ],
     "language": "python",
     "metadata": {
      "slideshow": {
       "slide_type": "fragment"
      }
     },
     "outputs": [
      {
       "html": [
        "<div style=\"max-height:1000px;max-width:1500px;overflow:auto;\">\n",
        "<table border=\"1\" class=\"dataframe\">\n",
        "  <thead>\n",
        "    <tr style=\"text-align: right;\">\n",
        "      <th>name</th>\n",
        "      <th>Zbychu</th>\n",
        "      <th>biedny student</th>\n",
        "      <th>julius_caesar</th>\n",
        "      <th>kotek</th>\n",
        "    </tr>\n",
        "  </thead>\n",
        "  <tbody>\n",
        "    <tr>\n",
        "      <th>2014-04-30</th>\n",
        "      <td>  7</td>\n",
        "      <td>NaN</td>\n",
        "      <td>NaN</td>\n",
        "      <td>  5</td>\n",
        "    </tr>\n",
        "    <tr>\n",
        "      <th>2014-03-31</th>\n",
        "      <td>NaN</td>\n",
        "      <td>NaN</td>\n",
        "      <td>NaN</td>\n",
        "      <td>NaN</td>\n",
        "    </tr>\n",
        "    <tr>\n",
        "      <th>2014-02-28</th>\n",
        "      <td>NaN</td>\n",
        "      <td>NaN</td>\n",
        "      <td> 10</td>\n",
        "      <td>NaN</td>\n",
        "    </tr>\n",
        "    <tr>\n",
        "      <th>2014-01-31</th>\n",
        "      <td> 36</td>\n",
        "      <td>  3</td>\n",
        "      <td> 22</td>\n",
        "      <td>NaN</td>\n",
        "    </tr>\n",
        "  </tbody>\n",
        "</table>\n",
        "<p>4 rows \u00d7 4 columns</p>\n",
        "</div>"
       ],
       "metadata": {},
       "output_type": "pyout",
       "prompt_number": 10,
       "text": [
        "name        Zbychu  biedny student  julius_caesar  kotek\n",
        "2014-04-30       7             NaN            NaN      5\n",
        "2014-03-31     NaN             NaN            NaN    NaN\n",
        "2014-02-28     NaN             NaN             10    NaN\n",
        "2014-01-31      36               3             22    NaN\n",
        "\n",
        "[4 rows x 4 columns]"
       ]
      }
     ],
     "prompt_number": 10
    },
    {
     "cell_type": "markdown",
     "metadata": {
      "slideshow": {
       "slide_type": "slide"
      }
     },
     "source": [
      "## Wykresy\n",
      "----"
     ]
    },
    {
     "cell_type": "code",
     "collapsed": false,
     "input": [
      "%matplotlib inline\n",
      "\n",
      "plots = by_month.plot(kind=\"bar\", figsize=(10, 6), title=\"Likes per month per user\")"
     ],
     "language": "python",
     "metadata": {
      "slideshow": {
       "slide_type": "fragment"
      }
     },
     "outputs": [
      {
       "metadata": {},
       "output_type": "display_data",
       "png": "[encoded data removed]",
       "text": [
        "<matplotlib.figure.Figure at 0x3e83dd0>"
       ]
      }
     ],
     "prompt_number": 11
    },
    {
     "cell_type": "markdown",
     "metadata": {
      "slideshow": {
       "slide_type": "slide"
      }
     },
     "source": [
      "# To dopiero pocz\u0105tek!\n",
      "\n",
      "----"
     ]
    },
    {
     "cell_type": "markdown",
     "metadata": {
      "slideshow": {
       "slide_type": "fragment"
      }
     },
     "source": [
      "- Zapis/odczyt: CSV, excel, HTML, JSON, SQL, HDF5, pickle, ..."
     ]
    },
    {
     "cell_type": "markdown",
     "metadata": {
      "slideshow": {
       "slide_type": "fragment"
      }
     },
     "source": [
      "- Merge/join/groupby a'la SQL"
     ]
    },
    {
     "cell_type": "markdown",
     "metadata": {
      "slideshow": {
       "slide_type": "fragment"
      }
     },
     "source": [
      "- Funkcje statystyczne, numeryczne, interpolacja"
     ]
    },
    {
     "cell_type": "markdown",
     "metadata": {
      "slideshow": {
       "slide_type": "fragment"
      }
     },
     "source": [
      "- Dane typu \"sparse\""
     ]
    },
    {
     "cell_type": "markdown",
     "metadata": {
      "slideshow": {
       "slide_type": "fragment"
      }
     },
     "source": [
      "- Ekosystem SciPy"
     ]
    },
    {
     "cell_type": "markdown",
     "metadata": {
      "slideshow": {
       "slide_type": "fragment"
      }
     },
     "source": [
      "- ..."
     ]
    },
    {
     "cell_type": "markdown",
     "metadata": {
      "slideshow": {
       "slide_type": "slide"
      }
     },
     "source": [
      "# Moje wnioski (1)\n",
      "\n",
      "----"
     ]
    },
    {
     "cell_type": "markdown",
     "metadata": {
      "slideshow": {
       "slide_type": "fragment"
      }
     },
     "source": [
      "* pandas everywhere!!!!11"
     ]
    },
    {
     "cell_type": "markdown",
     "metadata": {
      "slideshow": {
       "slide_type": "fragment"
      }
     },
     "source": [
      "* Nigdy wi\u0119cej \"r\u0119cznej\" obr\u00f3bki danych"
     ]
    },
    {
     "cell_type": "code",
     "collapsed": false,
     "input": [
      "import csv\n",
      "\n",
      "def the_manual_way():\n",
      "    with open(\"data.csv\") as f:\n",
      "        reader = csv.reader(f)\n",
      "        data = []\n",
      "\n",
      "        for row in reader:\n",
      "            data.append({\"ts\": parse(row[0]), \"name\": row[1]})\n",
      "            print \"I wish I've known pandas\"\n",
      "    # ... furious data wrangling ...        "
     ],
     "language": "python",
     "metadata": {
      "slideshow": {
       "slide_type": "fragment"
      }
     },
     "outputs": [],
     "prompt_number": 12
    },
    {
     "cell_type": "code",
     "collapsed": false,
     "input": [
      "import pandas\n",
      "\n",
      "def the_pandas_way():\n",
      "    data = pandas.read_csv(\"data.csv\")\n",
      "\n",
      "    # use pandas, Luke!\n",
      "    data.set_index(\"ts\").sort_index()[\"2014-01-01\":].groupby(\"name\")[\"likes\"].sum()"
     ],
     "language": "python",
     "metadata": {
      "slideshow": {
       "slide_type": "fragment"
      }
     },
     "outputs": [],
     "prompt_number": 13
    },
    {
     "cell_type": "markdown",
     "metadata": {
      "slideshow": {
       "slide_type": "slide"
      }
     },
     "source": [
      "# Moje wnioski (2)\n",
      "\n",
      "----"
     ]
    },
    {
     "cell_type": "markdown",
     "metadata": {
      "slideshow": {
       "slide_type": "fragment"
      }
     },
     "source": [
      "* pandas nie rozwi\u0105zuje wszystkich problem\u00f3w"
     ]
    },
    {
     "cell_type": "markdown",
     "metadata": {
      "slideshow": {
       "slide_type": "fragment"
      }
     },
     "source": [
      "* Spora funkcjonalno\u015b\u0107"
     ]
    },
    {
     "cell_type": "markdown",
     "metadata": {
      "slideshow": {
       "slide_type": "fragment"
      }
     },
     "source": [
      "* U\u017cy\u0107 jej dla wydajno\u015bci - unika\u0107 \"pure Python\""
     ]
    },
    {
     "cell_type": "markdown",
     "metadata": {
      "slideshow": {
       "slide_type": "fragment"
      }
     },
     "source": [
      "* API: unika\u0107 przeliczania \"online\", OK dla pre-agregacji"
     ]
    },
    {
     "cell_type": "markdown",
     "metadata": {
      "slideshow": {
       "slide_type": "fragment"
      }
     },
     "source": [
      "* Lepiej pracuje si\u0119 z \"gotowymi\" danymi"
     ]
    },
    {
     "cell_type": "markdown",
     "metadata": {
      "slideshow": {
       "slide_type": "fragment"
      }
     },
     "source": [
      "* Sp\u00f3jny model danych"
     ]
    },
    {
     "cell_type": "markdown",
     "metadata": {
      "slideshow": {
       "slide_type": "slide"
      }
     },
     "source": [
      "# Referencje\n",
      "\n",
      "----\n",
      "\n",
      "* pandas: [http://pandas.pydata.org/](http://pandas.pydata.org/)\n",
      "* pandas cookbook: [http://pandas.pydata.org/pandas-docs/stable/cookbook.html](http://pandas.pydata.org/pandas-docs/stable/cookbook.html)\n",
      "* Wes McKinney - Python for Data Analysis (ksi\u0105\u017cka autora pandas)\n",
      "  [http://shop.oreilly.com/product/0636920023784.do](http://shop.oreilly.com/product/0636920023784.do)\n",
      "  \n",
      "  ![](http://akamaicovers.oreilly.com/images/0636920023784/cat.gif)\n",
      "  \n",
      "# Przydatne linki, tutoriale\n",
      "\n",
      "* [Timeseries with pandas](http://nbviewer.ipython.org/github/changhiskhan/talks/blob/master/pydata2012/pandas_timeseries.ipynb)\n",
      "* [Learn pandas](https://bitbucket.org/hrojas/learn-pandas)"
     ]
    },
    {
     "cell_type": "markdown",
     "metadata": {
      "slideshow": {
       "slide_type": "slide"
      }
     },
     "source": [
      "# Linki\n",
      "\n",
      "----\n",
      "\n",
      "Prezentacja dost\u0119pna pod adresem: [http://pawroman.github.io/pywaw-pandas/](http://pawroman.github.io/pywaw-pandas/)\n",
      "\n",
      "Wpisy na blogu: [http://piesnakod.pl/tag/pandas/](http://piesnakod.pl/tag/pandas/)\n",
      "\n",
      "Kod prezentacji: [https://github.com/pawroman/pywaw-pandas](https://github.com/pawroman/pywaw-pandas)\n",
      "\n",
      "<hr>\n",
      "\n",
      "Wykonano w IPython notebook [http://ipython.org/notebook](http://ipython.org/notebook)"
     ]
    },
    {
     "cell_type": "markdown",
     "metadata": {
      "slideshow": {
       "slide_type": "slide"
      }
     },
     "source": [
      "# Dzi\u0119kuj\u0119\n",
      "\n",
      "----\n",
      "\n",
      "<br/>\n",
      "\n",
      "Pawe\u0142 Romanowski - [http://github.com/pawroman](http://github.com/pawroman)\n",
      "\n",
      "<br/>\n",
      "\n",
      "\n",
      "## Szukamy Python'owc\u00f3w!\n",
      "![](img/daftcode.png)\n",
      "[http://daftcode.pl/python_dev](http://daftcode.pl/python_dev)"
     ]
    }
   ],
   "metadata": {}
  }
 ]
}