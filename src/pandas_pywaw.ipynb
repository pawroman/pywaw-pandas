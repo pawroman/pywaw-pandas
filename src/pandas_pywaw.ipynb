{
 "metadata": {
  "celltoolbar": "Slideshow",
  "name": "",
  "signature": "sha256:3c6dcb5f07e40600b05d6773b6a9398b1f09039c322bbf0143a995b8cb53a13e"
 },
 "nbformat": 3,
 "nbformat_minor": 0,
 "worksheets": [
  {
   "cells": [
    {
     "cell_type": "markdown",
     "metadata": {
      "slideshow": {
       "slide_type": "slide"
      }
     },
     "source": [
      "# Czego nauczy\u0142em si\u0119 pracuj\u0105c z pandas\n",
      "\n",
      "----\n",
      "\n",
      "<br/>\n",
      "\n",
      "## Autor\n",
      "Pawe\u0142 Romanowski - [http://github.com/pawroman](http://github.com/pawroman)\n",
      "\n",
      "<br/>\n",
      "\n",
      "![](img/daftcode.png)\n",
      "\n",
      "[http://daftcode.pl](http://daftcode.pl)"
     ]
    },
    {
     "cell_type": "markdown",
     "metadata": {
      "slideshow": {
       "slide_type": "slide"
      }
     },
     "source": [
      "# Agenda\n",
      "\n",
      "----"
     ]
    },
    {
     "cell_type": "markdown",
     "metadata": {
      "slideshow": {
       "slide_type": "fragment"
      }
     },
     "source": [
      "* Co robi pandas?"
     ]
    },
    {
     "cell_type": "markdown",
     "metadata": {
      "slideshow": {
       "slide_type": "fragment"
      }
     },
     "source": [
      "* Zastosowania"
     ]
    },
    {
     "cell_type": "markdown",
     "metadata": {
      "slideshow": {
       "slide_type": "fragment"
      }
     },
     "source": [
      "* API - szybkie spojrzenie"
     ]
    },
    {
     "cell_type": "markdown",
     "metadata": {
      "slideshow": {
       "slide_type": "fragment"
      }
     },
     "source": [
      "* Przyk\u0142ady i wskaz\u00f3wki"
     ]
    },
    {
     "cell_type": "markdown",
     "metadata": {
      "slideshow": {
       "slide_type": "fragment"
      }
     },
     "source": [
      "* Moje do\u015bwiadczenia"
     ]
    },
    {
     "cell_type": "markdown",
     "metadata": {
      "slideshow": {
       "slide_type": "slide"
      }
     },
     "source": [
      "# Co robi pandas?\n",
      "\n",
      "----"
     ]
    },
    {
     "cell_type": "markdown",
     "metadata": {
      "slideshow": {
       "slide_type": "fragment"
      }
     },
     "source": [
      "* Struktury danych i algorytmy"
     ]
    },
    {
     "cell_type": "markdown",
     "metadata": {
      "slideshow": {
       "slide_type": "fragment"
      }
     },
     "source": [
      "* Wygodna manipulacja danymi"
     ]
    },
    {
     "cell_type": "markdown",
     "metadata": {
      "slideshow": {
       "slide_type": "fragment"
      }
     },
     "source": [
      "* Wiele \"utils\", szeroka funkcjonalno\u015b\u0107"
     ]
    },
    {
     "cell_type": "markdown",
     "metadata": {
      "slideshow": {
       "slide_type": "fragment"
      }
     },
     "source": [
      "* U\u017cywa NumPy, cz\u0119\u015b\u0107 stacku SciPy (NumPy, SciPy, matplotlib, SymPy, IPython)"
     ]
    },
    {
     "cell_type": "markdown",
     "metadata": {
      "slideshow": {
       "slide_type": "fragment"
      }
     },
     "source": [
      "* Wydajno\u015b\u0107!"
     ]
    },
    {
     "cell_type": "markdown",
     "metadata": {
      "slideshow": {
       "slide_type": "fragment"
      }
     },
     "source": [
      "* *\"(...) it has the broader goal of becoming the **most powerful and flexible open source data analysis / manipulation tool available in any language**. It is already well on its way toward this goal.\"*"
     ]
    },
    {
     "cell_type": "markdown",
     "metadata": {
      "slideshow": {
       "slide_type": "slide"
      }
     },
     "source": [
      "# Zastosowania\n",
      "\n",
      "----"
     ]
    },
    {
     "cell_type": "markdown",
     "metadata": {
      "slideshow": {
       "slide_type": "fragment"
      }
     },
     "source": [
      "* Obliczenia statystyczne"
     ]
    },
    {
     "cell_type": "markdown",
     "metadata": {
      "slideshow": {
       "slide_type": "fragment"
      }
     },
     "source": [
      "* Analiza, eksploracja danych"
     ]
    },
    {
     "cell_type": "markdown",
     "metadata": {
      "slideshow": {
       "slide_type": "fragment"
      }
     },
     "source": [
      "* Raportowanie"
     ]
    },
    {
     "cell_type": "markdown",
     "metadata": {
      "slideshow": {
       "slide_type": "fragment"
      }
     },
     "source": [
      "* Praca z danymi \"timeseries\""
     ]
    },
    {
     "cell_type": "markdown",
     "metadata": {
      "slideshow": {
       "slide_type": "fragment"
      }
     },
     "source": [
      "* (W moim przypadku) analiza i grupowanie danych z MongoDB"
     ]
    },
    {
     "cell_type": "markdown",
     "metadata": {
      "slideshow": {
       "slide_type": "slide"
      }
     },
     "source": [
      "# API"
     ]
    },
    {
     "cell_type": "markdown",
     "metadata": {
      "slideshow": {
       "slide_type": "slide"
      }
     },
     "source": [
      "# Koncepty\n",
      "\n",
      "----\n",
      "\n",
      "aasasa"
     ]
    },
    {
     "cell_type": "code",
     "collapsed": false,
     "input": [
      "# importy i definicje na potrzeby slajd\u00f3w\n",
      "\n",
      "import pandas\n",
      "\n",
      "posts_data = [\n",
      "    {\"id\": 1, \"ts\": \"2014-01-01T10:00\", \"message\": \"hello\u0142\", \"likes\": 56},\n",
      "    {\"id\": 2, \"ts\": \"2014-01-01T13:37\", \"likes\": 666},\n",
      "    {\"id\": 3, \"ts\": \"2014-01-01T15:35\", \"message\": \"panda 3\", \"likes\": 2},\n",
      "    {\"id\": 4, \"ts\": \"2014-01-02T19:42\", \"message\": \"42\", \"likes\": 42}\n",
      "]\n",
      "\n",
      "posts = pandas.DataFrame(posts_data)\n",
      "print posts"
     ],
     "language": "python",
     "metadata": {
      "slideshow": {
       "slide_type": "slide"
      }
     },
     "outputs": [
      {
       "output_type": "stream",
       "stream": "stdout",
       "text": [
        "   id  likes  message                ts\n",
        "0   1     56   hello\u0142  2014-01-01T10:00\n",
        "1   2    666      NaN  2014-01-01T13:37\n",
        "2   3      2  panda 3  2014-01-01T15:35\n",
        "3   4     42       42  2014-01-02T19:42\n",
        "\n",
        "[4 rows x 4 columns]\n"
       ]
      }
     ],
     "prompt_number": 2
    },
    {
     "cell_type": "code",
     "collapsed": false,
     "input": [
      "posts = posts[0:3][[\"id\", \"likes\", \"message\"]]\n",
      "print posts"
     ],
     "language": "python",
     "metadata": {
      "slideshow": {
       "slide_type": "slide"
      }
     },
     "outputs": [
      {
       "output_type": "stream",
       "stream": "stdout",
       "text": [
        "   id  likes  message\n",
        "0   1     56   hello\u0142\n",
        "1   2    666      NaN\n",
        "2   3      2  panda 3\n",
        "\n",
        "[3 rows x 3 columns]\n"
       ]
      }
     ],
     "prompt_number": 3
    },
    {
     "cell_type": "code",
     "collapsed": false,
     "input": [
      "posts = posts.sort(\"likes\", ascending=False).fillna(\"<no comment>\")\n",
      "print posts"
     ],
     "language": "python",
     "metadata": {
      "slideshow": {
       "slide_type": "slide"
      }
     },
     "outputs": [
      {
       "output_type": "stream",
       "stream": "stdout",
       "text": [
        "   id  likes       message\n",
        "1   2    666  <no comment>\n",
        "0   1     56        hello\u0142\n",
        "2   3      2       panda 3\n",
        "\n",
        "[3 rows x 3 columns]\n"
       ]
      }
     ],
     "prompt_number": 4
    },
    {
     "cell_type": "code",
     "collapsed": false,
     "input": [
      "posts = posts[posts[\"likes\"] > 50]\n",
      "posts[\"message\"] = posts[\"message\"].map(str.title)\n",
      "\n",
      "print posts"
     ],
     "language": "python",
     "metadata": {
      "slideshow": {
       "slide_type": "slide"
      }
     },
     "outputs": [
      {
       "output_type": "stream",
       "stream": "stdout",
       "text": [
        "   id  likes       message\n",
        "1   2    666  <No Comment>\n",
        "0   1     56        Hello\u0142\n",
        "\n",
        "[2 rows x 3 columns]\n"
       ]
      }
     ],
     "prompt_number": 5
    },
    {
     "cell_type": "code",
     "collapsed": false,
     "input": [
      "from StringIO import StringIO\n",
      "\n",
      "buf = StringIO()\n",
      "posts.to_csv(buf)\n",
      "print buf.getvalue()"
     ],
     "language": "python",
     "metadata": {
      "slideshow": {
       "slide_type": "slide"
      }
     },
     "outputs": [
      {
       "output_type": "stream",
       "stream": "stdout",
       "text": [
        ",id,likes,message\n",
        "1,2,666,<No Comment>\n",
        "0,1,56,Hello\u0142\n",
        "\n"
       ]
      }
     ],
     "prompt_number": 6
    },
    {
     "cell_type": "code",
     "collapsed": false,
     "input": [
      "buf.truncate(0)\n",
      "\n",
      "posts.set_index(\"id\").to_csv(buf)\n",
      "print buf.getvalue()"
     ],
     "language": "python",
     "metadata": {
      "slideshow": {
       "slide_type": "slide"
      }
     },
     "outputs": [
      {
       "output_type": "stream",
       "stream": "stdout",
       "text": [
        "id,likes,message\n",
        "2,666,<No Comment>\n",
        "1,56,Hello\u0142\n",
        "\n"
       ]
      }
     ],
     "prompt_number": 7
    },
    {
     "cell_type": "code",
     "collapsed": false,
     "input": [
      "%matplotlib inline\n",
      "\n",
      "posts = pandas.DataFrame(posts_data)\n",
      "posts = posts.set_index(\"ts\").sort(\"likes\", ascending=False)\n",
      "likes = posts[\"likes\"]\n",
      "\n",
      "print likes\n",
      "likes.plot(kind=\"barh\", legend=True, title=\"Likes by comments timestamp\")"
     ],
     "language": "python",
     "metadata": {
      "slideshow": {
       "slide_type": "slide"
      }
     },
     "outputs": [
      {
       "output_type": "stream",
       "stream": "stdout",
       "text": [
        "ts\n",
        "2014-01-01T13:37    666\n",
        "2014-01-01T10:00     56\n",
        "2014-01-02T19:42     42\n",
        "2014-01-01T15:35      2\n",
        "Name: likes, dtype: int64\n"
       ]
      },
      {
       "metadata": {},
       "output_type": "pyout",
       "prompt_number": 8,
       "text": [
        "<matplotlib.axes.AxesSubplot at 0x3cd6d10>"
       ]
      },
      {
       "metadata": {},
       "output_type": "display_data",
       "png": "[encoded data removed]",
       "text": [
        "<matplotlib.figure.Figure at 0x3cd6850>"
       ]
      }
     ],
     "prompt_number": 8
    },
    {
     "cell_type": "markdown",
     "metadata": {
      "slideshow": {
       "slide_type": "slide"
      }
     },
     "source": [
      "# Przyk\u0142ad - dane timeseries\n",
      "\n",
      "----\n"
     ]
    },
    {
     "cell_type": "markdown",
     "metadata": {
      "slideshow": {
       "slide_type": "slide"
      }
     },
     "source": [
      "# Przyk\u0142ad - trend warto\u015bci\n",
      "\n",
      "----\n",
      "\n"
     ]
    },
    {
     "cell_type": "markdown",
     "metadata": {
      "slideshow": {
       "slide_type": "slide"
      }
     },
     "source": [
      "# Przyk\u0142ad - grupowanie\n",
      "\n",
      "----\n"
     ]
    },
    {
     "cell_type": "markdown",
     "metadata": {
      "slideshow": {
       "slide_type": "slide"
      }
     },
     "source": [
      "# Przyk\u0142ad - reindex\n",
      "\n",
      "----\n"
     ]
    },
    {
     "cell_type": "markdown",
     "metadata": {
      "slideshow": {
       "slide_type": "slide"
      }
     },
     "source": [
      "# Przyk\u0142ad - prototypowanie w notebooku\n",
      "\n",
      "----"
     ]
    },
    {
     "cell_type": "code",
     "collapsed": false,
     "input": [
      "posts[\"likes\"]"
     ],
     "language": "python",
     "metadata": {
      "slideshow": {
       "slide_type": "fragment"
      }
     },
     "outputs": [
      {
       "metadata": {},
       "output_type": "pyout",
       "prompt_number": 9,
       "text": [
        "ts\n",
        "2014-01-01T13:37    666\n",
        "2014-01-01T10:00     56\n",
        "2014-01-02T19:42     42\n",
        "2014-01-01T15:35      2\n",
        "Name: likes, dtype: int64"
       ]
      }
     ],
     "prompt_number": 9
    },
    {
     "cell_type": "code",
     "collapsed": false,
     "input": [
      "posts[\"likes\"].diff().combine_first(posts[\"likes\"])"
     ],
     "language": "python",
     "metadata": {
      "slideshow": {
       "slide_type": "slide"
      }
     },
     "outputs": [
      {
       "metadata": {},
       "output_type": "pyout",
       "prompt_number": 10,
       "text": [
        "ts\n",
        "2014-01-01T13:37    666\n",
        "2014-01-01T10:00   -610\n",
        "2014-01-02T19:42    -14\n",
        "2014-01-01T15:35    -40\n",
        "Name: likes, dtype: float64"
       ]
      }
     ],
     "prompt_number": 10
    },
    {
     "cell_type": "markdown",
     "metadata": {
      "slideshow": {
       "slide_type": "slide"
      }
     },
     "source": [
      "# Moje wnioski (1)\n",
      "\n",
      "----"
     ]
    },
    {
     "cell_type": "markdown",
     "metadata": {
      "slideshow": {
       "slide_type": "fragment"
      }
     },
     "source": [
      "* pandas everywhere!!!!11"
     ]
    },
    {
     "cell_type": "markdown",
     "metadata": {
      "slideshow": {
       "slide_type": "fragment"
      }
     },
     "source": [
      "* nigdy wi\u0119cej \"r\u0119cznej\" obr\u00f3bki danych"
     ]
    },
    {
     "cell_type": "code",
     "collapsed": false,
     "input": [
      "import csv\n",
      "\n",
      "with open(\"data.csv\") as f:\n",
      "    reader = csv.reader(f)\n",
      "    data = []\n",
      "\n",
      "    for row in reader:\n",
      "        data.append({\"time\": parse(row[0]), \"name\": row[1]})\n",
      "        print \"I wish I've known pandas\"\n",
      "\n",
      "# ... furious data wrangling ...        "
     ],
     "language": "python",
     "metadata": {
      "slideshow": {
       "slide_type": "fragment"
      }
     },
     "outputs": []
    },
    {
     "cell_type": "code",
     "collapsed": false,
     "input": [
      "import pandas\n",
      "\n",
      "data = pandas.read_csv(\"data.csv\")\n",
      "\n",
      "# use pandas, Luke!\n",
      "data.set_index(\"time\").sort()[\"2014-01-01\":].groupby(\"username\")[\"num_comments\"].avg()"
     ],
     "language": "python",
     "metadata": {
      "slideshow": {
       "slide_type": "fragment"
      }
     },
     "outputs": []
    },
    {
     "cell_type": "markdown",
     "metadata": {
      "slideshow": {
       "slide_type": "slide"
      }
     },
     "source": [
      "# Moje wnioski (2)\n",
      "\n",
      "----"
     ]
    },
    {
     "cell_type": "markdown",
     "metadata": {
      "slideshow": {
       "slide_type": "fragment"
      }
     },
     "source": [
      "* pandas nie rozwi\u0105zuje wszystkich problem\u00f3w\n",
      "    * struktura\n",
      "    * agregaty\n",
      "    * nietrywialna logika"
     ]
    },
    {
     "cell_type": "markdown",
     "metadata": {
      "slideshow": {
       "slide_type": "fragment"
      }
     },
     "source": [
      "* ogrom funkcjonalno\u015bci"
     ]
    },
    {
     "cell_type": "markdown",
     "metadata": {
      "slideshow": {
       "slide_type": "fragment"
      }
     },
     "source": [
      "* API: unika\u0107 przeliczania \"online\""
     ]
    },
    {
     "cell_type": "markdown",
     "metadata": {
      "slideshow": {
       "slide_type": "fragment"
      }
     },
     "source": [
      "* lepiej pracuje si\u0119 z \"gotowym\" datasetem"
     ]
    },
    {
     "cell_type": "markdown",
     "metadata": {
      "slideshow": {
       "slide_type": "fragment"
      }
     },
     "source": [
      "* pre-agregacja\n",
      "\n",
      "* sp\u00f3jny model danych"
     ]
    },
    {
     "cell_type": "markdown",
     "metadata": {
      "slideshow": {
       "slide_type": "slide"
      }
     },
     "source": [
      "# Referencje\n",
      "\n",
      "----\n",
      "\n",
      "* pandas: [http://pandas.pydata.org/](http://pandas.pydata.org/)\n",
      "* pandas cookbook: [http://pandas.pydata.org/pandas-docs/stable/cookbook.html](http://pandas.pydata.org/pandas-docs/stable/cookbook.html)\n",
      "* Wes McKinney - Python for Data Analysis (ksi\u0105\u017cka autora pandas)\n",
      "  [http://shop.oreilly.com/product/0636920023784.do](http://shop.oreilly.com/product/0636920023784.do)\n",
      "  \n",
      "  ![](http://akamaicovers.oreilly.com/images/0636920023784/cat.gif)\n",
      "  \n",
      "# Przydatne linki, tutoriale\n",
      "\n",
      "* [Timeseries with pandas](http://nbviewer.ipython.org/github/changhiskhan/talks/blob/master/pydata2012/pandas_timeseries.ipynb)\n",
      "* [Learn pandas](https://bitbucket.org/hrojas/learn-pandas)"
     ]
    },
    {
     "cell_type": "markdown",
     "metadata": {
      "slideshow": {
       "slide_type": "slide"
      }
     },
     "source": [
      "# Linki\n",
      "\n",
      "----\n",
      "\n",
      "Prezentacja dost\u0119pna pod adresem:  aa\n",
      "\n",
      "Wpisy na blogu: [http://piesnakod.pl/tag/pandas/](http://piesnakod.pl/tag/pandas/)\n",
      "\n",
      "<hr>\n",
      "\n",
      "Wykonano w IPython notebook [http://ipython.org/notebook](http://ipython.org/notebook)"
     ]
    },
    {
     "cell_type": "markdown",
     "metadata": {
      "slideshow": {
       "slide_type": "slide"
      }
     },
     "source": [
      "# Dzi\u0119kuj\u0119\n",
      "\n",
      "----\n",
      "\n",
      "<br/>\n",
      "\n",
      "Pawe\u0142 Romanowski - [http://github.com/pawroman](http://github.com/pawroman)\n",
      "\n",
      "<br/>\n",
      "\n",
      "![](img/daftcode.png)\n",
      "\n",
      "[http://daftcode.pl](http://daftcode.pl)"
     ]
    }
   ],
   "metadata": {}
  }
 ]
}