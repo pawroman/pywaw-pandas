{
 "metadata": {
  "celltoolbar": "Slideshow",
  "name": "",
  "signature": "sha256:da59546fb5eeac8f6967c15abd8c7e4de3c7446a438cd554cc4c9ba6e18ac87a"
 },
 "nbformat": 3,
 "nbformat_minor": 0,
 "worksheets": [
  {
   "cells": [
    {
     "cell_type": "markdown",
     "metadata": {
      "slideshow": {
       "slide_type": "slide"
      }
     },
     "source": [
      "# Czego nauczy\u0142em si\u0119 pracuj\u0105c z pandas\n",
      "\n",
      "----\n",
      "\n",
      "<br/>\n",
      "\n",
      "## Autor\n",
      "Pawe\u0142 Romanowski - [http://github.com/pawroman](http://github.com/pawroman)\n",
      "\n",
      "<br/>\n",
      "\n",
      "![](img/daftcode.png)\n",
      "\n",
      "[http://daftcode.pl](http://daftcode.pl)"
     ]
    },
    {
     "cell_type": "markdown",
     "metadata": {
      "slideshow": {
       "slide_type": "slide"
      }
     },
     "source": [
      "# Agenda\n",
      "\n",
      "----"
     ]
    },
    {
     "cell_type": "markdown",
     "metadata": {
      "slideshow": {
       "slide_type": "fragment"
      }
     },
     "source": [
      "* Co robi pandas?"
     ]
    },
    {
     "cell_type": "markdown",
     "metadata": {
      "slideshow": {
       "slide_type": "fragment"
      }
     },
     "source": [
      "* Zastosowania"
     ]
    },
    {
     "cell_type": "markdown",
     "metadata": {
      "slideshow": {
       "slide_type": "fragment"
      }
     },
     "source": [
      "* API - szybkie spojrzenie"
     ]
    },
    {
     "cell_type": "markdown",
     "metadata": {
      "slideshow": {
       "slide_type": "fragment"
      }
     },
     "source": [
      "* Przyk\u0142ady i wskaz\u00f3wki"
     ]
    },
    {
     "cell_type": "markdown",
     "metadata": {
      "slideshow": {
       "slide_type": "fragment"
      }
     },
     "source": [
      "* Moje do\u015bwiadczenia"
     ]
    },
    {
     "cell_type": "markdown",
     "metadata": {
      "slideshow": {
       "slide_type": "slide"
      }
     },
     "source": [
      "# Co robi pandas?\n",
      "\n",
      "----"
     ]
    },
    {
     "cell_type": "markdown",
     "metadata": {
      "slideshow": {
       "slide_type": "fragment"
      }
     },
     "source": [
      "* Struktury danych i algorytmy"
     ]
    },
    {
     "cell_type": "markdown",
     "metadata": {
      "slideshow": {
       "slide_type": "fragment"
      }
     },
     "source": [
      "* Wygodna manipulacja danymi"
     ]
    },
    {
     "cell_type": "markdown",
     "metadata": {
      "slideshow": {
       "slide_type": "fragment"
      }
     },
     "source": [
      "* Wiele \"utils\", szeroka funkcjonalno\u015b\u0107"
     ]
    },
    {
     "cell_type": "markdown",
     "metadata": {
      "slideshow": {
       "slide_type": "fragment"
      }
     },
     "source": [
      "* U\u017cywa NumPy, cz\u0119\u015b\u0107 stacku SciPy (NumPy, SciPy, matplotlib, SymPy, IPython)"
     ]
    },
    {
     "cell_type": "markdown",
     "metadata": {
      "slideshow": {
       "slide_type": "fragment"
      }
     },
     "source": [
      "* Wydajno\u015b\u0107!"
     ]
    },
    {
     "cell_type": "markdown",
     "metadata": {
      "slideshow": {
       "slide_type": "fragment"
      }
     },
     "source": [
      "* *\"(...) it has the broader goal of becoming the **most powerful and flexible open source data analysis / manipulation tool available in any language**. It is already well on its way toward this goal.\"*"
     ]
    },
    {
     "cell_type": "markdown",
     "metadata": {
      "slideshow": {
       "slide_type": "slide"
      }
     },
     "source": [
      "# Zastosowania\n",
      "\n",
      "----"
     ]
    },
    {
     "cell_type": "markdown",
     "metadata": {
      "slideshow": {
       "slide_type": "fragment"
      }
     },
     "source": [
      "* Obliczenia statystyczne"
     ]
    },
    {
     "cell_type": "markdown",
     "metadata": {
      "slideshow": {
       "slide_type": "fragment"
      }
     },
     "source": [
      "* Analiza, eksploracja danych"
     ]
    },
    {
     "cell_type": "markdown",
     "metadata": {
      "slideshow": {
       "slide_type": "fragment"
      }
     },
     "source": [
      "* Raportowanie"
     ]
    },
    {
     "cell_type": "markdown",
     "metadata": {
      "slideshow": {
       "slide_type": "fragment"
      }
     },
     "source": [
      "* Praca z danymi \"timeseries\""
     ]
    },
    {
     "cell_type": "markdown",
     "metadata": {
      "slideshow": {
       "slide_type": "fragment"
      }
     },
     "source": [
      "* (W moim przypadku) analiza i grupowanie danych z MongoDB"
     ]
    },
    {
     "cell_type": "markdown",
     "metadata": {
      "slideshow": {
       "slide_type": "slide"
      }
     },
     "source": [
      "# \u0141adowanie danych\n",
      "\n",
      "----\n",
      "\n",
      "* Najpro\u015bciej: `[dict, dict, dict, ...]`\n",
      "* tuples + nazwy kolumn\n",
      "* CSV\n",
      "* Excel\n",
      "* SQL\n",
      "* HDF5 (PyTables)\n",
      "* JSON\n",
      "* schowek systemowy\n",
      "* \u017ar\u00f3d\u0142a online (Google Finance, FRED, World Bank, ...)\n",
      "* wi\u0119cej..."
     ]
    },
    {
     "cell_type": "code",
     "collapsed": false,
     "input": [
      "import pandas\n",
      "\n",
      "posts_data = [\n",
      "    {\"id\": 1, \"ts\": \"2014-01-01T10:00\", \"name\": \"Zbychu\", \"message\": \"hello\u0142\", \"likes\": 56},\n",
      "    {\"id\": 2, \"ts\": \"2014-01-01T13:37\", \"name\": \"Zbychu\", \"likes\": 666},\n",
      "    {\"id\": 3, \"ts\": \"2014-01-01T15:35\", \"name\": \"biedny student\", \"message\": \"panda 3\", \"likes\": 2},\n",
      "    {\"id\": 4, \"ts\": \"2014-01-02T19:42\", \"name\": \"julius_caesar\", \"message\": \"veni, vidi, vici\", \"likes\": 42},\n",
      "    {\"id\": 5, \"ts\": \"2014-02-04T12:02\", \"name\": \"julius_caesar\", \"message\": \"The die is cast.\", \"likes\": 6},\n",
      "    {\"id\": 6, \"ts\": \"2014-04-15T23:15\", \"name\": \"kotek\", \"message\": \"miau miau\", \"likes\": 512},\n",
      "]\n",
      "\n",
      "posts = pandas.DataFrame(posts_data)\n",
      "posts  # notebook: rich print last value"
     ],
     "language": "python",
     "metadata": {
      "slideshow": {
       "slide_type": "slide"
      }
     },
     "outputs": [
      {
       "html": [
        "<div style=\"max-height:1000px;max-width:1500px;overflow:auto;\">\n",
        "<table border=\"1\" class=\"dataframe\">\n",
        "  <thead>\n",
        "    <tr style=\"text-align: right;\">\n",
        "      <th></th>\n",
        "      <th>id</th>\n",
        "      <th>likes</th>\n",
        "      <th>message</th>\n",
        "      <th>name</th>\n",
        "      <th>ts</th>\n",
        "    </tr>\n",
        "  </thead>\n",
        "  <tbody>\n",
        "    <tr>\n",
        "      <th>0</th>\n",
        "      <td> 1</td>\n",
        "      <td>  56</td>\n",
        "      <td>           hello\u0142</td>\n",
        "      <td>         Zbychu</td>\n",
        "      <td> 2014-01-01T10:00</td>\n",
        "    </tr>\n",
        "    <tr>\n",
        "      <th>1</th>\n",
        "      <td> 2</td>\n",
        "      <td> 666</td>\n",
        "      <td>              NaN</td>\n",
        "      <td>         Zbychu</td>\n",
        "      <td> 2014-01-01T13:37</td>\n",
        "    </tr>\n",
        "    <tr>\n",
        "      <th>2</th>\n",
        "      <td> 3</td>\n",
        "      <td>   2</td>\n",
        "      <td>          panda 3</td>\n",
        "      <td> biedny student</td>\n",
        "      <td> 2014-01-01T15:35</td>\n",
        "    </tr>\n",
        "    <tr>\n",
        "      <th>3</th>\n",
        "      <td> 4</td>\n",
        "      <td>  42</td>\n",
        "      <td> veni, vidi, vici</td>\n",
        "      <td>  julius_caesar</td>\n",
        "      <td> 2014-01-02T19:42</td>\n",
        "    </tr>\n",
        "    <tr>\n",
        "      <th>4</th>\n",
        "      <td> 5</td>\n",
        "      <td>   6</td>\n",
        "      <td> The die is cast.</td>\n",
        "      <td>  julius_caesar</td>\n",
        "      <td> 2014-02-04T12:02</td>\n",
        "    </tr>\n",
        "    <tr>\n",
        "      <th>5</th>\n",
        "      <td> 6</td>\n",
        "      <td> 512</td>\n",
        "      <td>        miau miau</td>\n",
        "      <td>          kotek</td>\n",
        "      <td> 2014-04-15T23:15</td>\n",
        "    </tr>\n",
        "  </tbody>\n",
        "</table>\n",
        "<p>6 rows \u00d7 5 columns</p>\n",
        "</div>"
       ],
       "metadata": {},
       "output_type": "pyout",
       "prompt_number": 1,
       "text": [
        "   id  likes           message            name                ts\n",
        "0   1     56            hello\u0142          Zbychu  2014-01-01T10:00\n",
        "1   2    666               NaN          Zbychu  2014-01-01T13:37\n",
        "2   3      2           panda 3  biedny student  2014-01-01T15:35\n",
        "3   4     42  veni, vidi, vici   julius_caesar  2014-01-02T19:42\n",
        "4   5      6  The die is cast.   julius_caesar  2014-02-04T12:02\n",
        "5   6    512         miau miau           kotek  2014-04-15T23:15\n",
        "\n",
        "[6 rows x 5 columns]"
       ]
      }
     ],
     "prompt_number": 1
    },
    {
     "cell_type": "code",
     "collapsed": false,
     "input": [
      "from sqlalchemy import Column, Boolean, DateTime, Integer, Text\n",
      "from sqlalchemy.ext.declarative import declarative_base\n",
      "\n",
      "from datetime import datetime\n",
      "\n",
      "Base = declarative_base()\n",
      "\n",
      "class Post(Base):\n",
      "    __tablename__ = \"posts\"\n",
      "    \n",
      "    id = Column(Integer, primary_key=True)\n",
      "    name = Column(Text)\n",
      "    message = Column(Text)\n",
      "    likes = Column(Integer)\n",
      "    ts = Column(DateTime, default=datetime.now)\n",
      "    \n",
      "    def __repr__(self):\n",
      "        return u\"<Post id={id}, name={name}, ts={ts}>\".format(**self.__dict__)\n",
      "    \n",
      "    def as_dict(self):\n",
      "        # represent Post object as dict, mapping column names to their values\n",
      "        columns = [col.name for col in self.__table__.columns]\n",
      "        \n",
      "        return {\n",
      "            col: getattr(self, col) for col in columns\n",
      "        }"
     ],
     "language": "python",
     "metadata": {
      "slideshow": {
       "slide_type": "slide"
      }
     },
     "outputs": [],
     "prompt_number": 2
    },
    {
     "cell_type": "code",
     "collapsed": false,
     "input": [
      "from sqlalchemy import create_engine\n",
      "from sqlalchemy.exc import IntegrityError\n",
      "from sqlalchemy.orm import scoped_session, sessionmaker\n",
      "\n",
      "engine = create_engine(\"postgresql://pandas_test@localhost/pandas_test\")\n",
      "session = scoped_session(sessionmaker(bind=engine, autocommit=False))\n",
      "\n",
      "# create 'posts' table\n",
      "Base.metadata.create_all(engine)\n",
      "\n",
      "# insert some data\n",
      "session.add_all([Post(**data) for data in posts_data])\n",
      "\n",
      "try:\n",
      "    session.commit()\n",
      "except IntegrityError:\n",
      "    session.rollback()"
     ],
     "language": "python",
     "metadata": {
      "slideshow": {
       "slide_type": "slide"
      }
     },
     "outputs": [],
     "prompt_number": 3
    },
    {
     "cell_type": "code",
     "collapsed": false,
     "input": [
      "session.query(Post).all()"
     ],
     "language": "python",
     "metadata": {
      "slideshow": {
       "slide_type": "slide"
      }
     },
     "outputs": [
      {
       "metadata": {},
       "output_type": "pyout",
       "prompt_number": 4,
       "text": [
        "[<Post id=1, name=Zbychu, ts=2014-01-01 10:00:00>,\n",
        " <Post id=2, name=Zbychu, ts=2014-01-01 13:37:00>,\n",
        " <Post id=3, name=biedny student, ts=2014-01-01 15:35:00>,\n",
        " <Post id=4, name=julius_caesar, ts=2014-01-02 19:42:00>,\n",
        " <Post id=5, name=julius_caesar, ts=2014-02-04 12:02:00>,\n",
        " <Post id=6, name=kotek, ts=2014-04-15 23:15:00>]"
       ]
      }
     ],
     "prompt_number": 4
    },
    {
     "cell_type": "code",
     "collapsed": false,
     "input": [
      "from pandas.io.sql import read_frame\n",
      "\n",
      "print read_frame(\"SELECT * FROM posts WHERE ts > '2014-01-01'\", engine.raw_connection())\n",
      "\n",
      "print \"-\" * 80\n",
      "\n",
      "print pandas.DataFrame([\n",
      "    p.as_dict() for p in session.query(Post).all()\n",
      "])\n"
     ],
     "language": "python",
     "metadata": {
      "slideshow": {
       "slide_type": "slide"
      }
     },
     "outputs": [
      {
       "output_type": "stream",
       "stream": "stdout",
       "text": [
        "   id            name           message  likes                  ts\n",
        "0   1          Zbychu            hello\u0142     56 2014-01-01 10:00:00\n",
        "1   2          Zbychu              None    666 2014-01-01 13:37:00\n",
        "2   3  biedny student           panda 3      2 2014-01-01 15:35:00\n",
        "3   4   julius_caesar  veni, vidi, vici     42 2014-01-02 19:42:00\n",
        "4   5   julius_caesar  The die is cast.      6 2014-02-04 12:02:00\n",
        "5   6           kotek         miau miau    512 2014-04-15 23:15:00\n",
        "\n",
        "[6 rows x 5 columns]\n",
        "--------------------------------------------------------------------------------\n",
        "   id  likes           message            name                  ts\n",
        "0   1     56            hello\u0142          Zbychu 2014-01-01 10:00:00\n",
        "1   2    666              None          Zbychu 2014-01-01 13:37:00\n",
        "2   3      2           panda 3  biedny student 2014-01-01 15:35:00\n",
        "3   4     42  veni, vidi, vici   julius_caesar 2014-01-02 19:42:00\n",
        "4   5      6  The die is cast.   julius_caesar 2014-02-04 12:02:00\n",
        "5   6    512         miau miau           kotek 2014-04-15 23:15:00\n",
        "\n",
        "[6 rows x 5 columns]\n"
       ]
      }
     ],
     "prompt_number": 5
    },
    {
     "cell_type": "markdown",
     "metadata": {
      "slideshow": {
       "slide_type": "slide"
      }
     },
     "source": [
      "# Manipulacja danymi\n",
      "\n",
      "----\n",
      "\n"
     ]
    },
    {
     "cell_type": "code",
     "collapsed": false,
     "input": [
      "posts_sorted = posts.sort(\"likes\", ascending=False).fillna(\"<no comment>\")\n",
      "print posts_sorted"
     ],
     "language": "python",
     "metadata": {
      "slideshow": {
       "slide_type": "slide"
      }
     },
     "outputs": [
      {
       "output_type": "stream",
       "stream": "stdout",
       "text": [
        "   id  likes           message            name                ts\n",
        "1   2    666      <no comment>          Zbychu  2014-01-01T13:37\n",
        "5   6    512         miau miau           kotek  2014-04-15T23:15\n",
        "0   1     56            hello\u0142          Zbychu  2014-01-01T10:00\n",
        "3   4     42  veni, vidi, vici   julius_caesar  2014-01-02T19:42\n",
        "4   5      6  The die is cast.   julius_caesar  2014-02-04T12:02\n",
        "2   3      2           panda 3  biedny student  2014-01-01T15:35\n",
        "\n",
        "[6 rows x 5 columns]\n"
       ]
      }
     ],
     "prompt_number": 6
    },
    {
     "cell_type": "code",
     "collapsed": false,
     "input": [
      "posts_sorted[\"message\"] = \"replacement\"\n",
      "\n",
      "# zwraca kopi\u0119, b\u0119dzie warning\n",
      "posts_sorted[posts_sorted[\"likes\"] > 20][\"message\"] = \"ignored\"\n",
      "\n",
      "# bezpo\u015brednia manipulacja\n",
      "posts_sorted.ix[posts_sorted[\"likes\"] > 20, \"message\"] = posts_sorted[\"message\"].str.upper()\n",
      "\n",
      "print posts_sorted[[\"id\", \"likes\", \"message\"]]"
     ],
     "language": "python",
     "metadata": {
      "slideshow": {
       "slide_type": "fragment"
      }
     },
     "outputs": [
      {
       "output_type": "stream",
       "stream": "stdout",
       "text": [
        "   id  likes      message\n",
        "1   2    666  REPLACEMENT\n",
        "5   6    512  REPLACEMENT\n",
        "0   1     56  REPLACEMENT\n",
        "3   4     42  REPLACEMENT\n",
        "4   5      6  replacement\n",
        "2   3      2  replacement\n",
        "\n",
        "[6 rows x 3 columns]\n"
       ]
      },
      {
       "output_type": "stream",
       "stream": "stderr",
       "text": [
        "-c:4: SettingWithCopyWarning: A value is trying to be set on a copy of a slice from a DataFrame.\n",
        "Try using .loc[row_index,col_indexer] = value instead\n"
       ]
      }
     ],
     "prompt_number": 7
    },
    {
     "cell_type": "code",
     "collapsed": false,
     "input": [
      "# wybieranie po domy\u015blnym indexie (range(len(posts)))\n",
      "print posts.index\n",
      "print posts[3:6]"
     ],
     "language": "python",
     "metadata": {
      "slideshow": {
       "slide_type": "slide"
      }
     },
     "outputs": [
      {
       "output_type": "stream",
       "stream": "stdout",
       "text": [
        "Int64Index([0, 1, 2, 3, 4, 5], dtype='int64')\n",
        "   id  likes           message           name                ts\n",
        "3   4     42  veni, vidi, vici  julius_caesar  2014-01-02T19:42\n",
        "4   5      6  The die is cast.  julius_caesar  2014-02-04T12:02\n",
        "5   6    512         miau miau          kotek  2014-04-15T23:15\n",
        "\n",
        "[3 rows x 5 columns]\n"
       ]
      }
     ],
     "prompt_number": 8
    },
    {
     "cell_type": "code",
     "collapsed": false,
     "input": [
      "posts_id = posts.set_index(\"id\")\n",
      "print posts_id.ix[3:6]"
     ],
     "language": "python",
     "metadata": {
      "slideshow": {
       "slide_type": "fragment"
      }
     },
     "outputs": [
      {
       "output_type": "stream",
       "stream": "stdout",
       "text": [
        "    likes           message            name                ts\n",
        "id                                                           \n",
        "3       2           panda 3  biedny student  2014-01-01T15:35\n",
        "4      42  veni, vidi, vici   julius_caesar  2014-01-02T19:42\n",
        "5       6  The die is cast.   julius_caesar  2014-02-04T12:02\n",
        "6     512         miau miau           kotek  2014-04-15T23:15\n",
        "\n",
        "[4 rows x 4 columns]\n"
       ]
      }
     ],
     "prompt_number": 9
    },
    {
     "cell_type": "code",
     "collapsed": false,
     "input": [
      "# indeksowanie po pozycji\n",
      "posts_id.iloc[0]"
     ],
     "language": "python",
     "metadata": {
      "slideshow": {
       "slide_type": "slide"
      }
     },
     "outputs": [
      {
       "metadata": {},
       "output_type": "pyout",
       "prompt_number": 10,
       "text": [
        "likes                    56\n",
        "message              hello\u0142\n",
        "name                 Zbychu\n",
        "ts         2014-01-01T10:00\n",
        "Name: 1, dtype: object"
       ]
      }
     ],
     "prompt_number": 10
    },
    {
     "cell_type": "code",
     "collapsed": false,
     "input": [
      "posts_ts = posts.set_index(\"ts\")\n",
      "posts_ts.index = posts_ts.index.to_datetime()\n",
      "\n",
      "print posts_ts[\"2014-01-01 13:37\":\"2014-01-01 16:00\"]\n",
      "print\n",
      "print posts_ts.truncate(after=\"2014-01-01 16:00\")"
     ],
     "language": "python",
     "metadata": {
      "slideshow": {
       "slide_type": "slide"
      }
     },
     "outputs": [
      {
       "output_type": "stream",
       "stream": "stdout",
       "text": [
        "                     id  likes  message            name\n",
        "2014-01-01 13:37:00   2    666      NaN          Zbychu\n",
        "2014-01-01 15:35:00   3      2  panda 3  biedny student\n",
        "\n",
        "[2 rows x 4 columns]\n",
        "\n",
        "                     id  likes  message            name\n",
        "2014-01-01 10:00:00   1     56   hello\u0142          Zbychu\n",
        "2014-01-01 13:37:00   2    666      NaN          Zbychu\n",
        "2014-01-01 15:35:00   3      2  panda 3  biedny student\n",
        "\n",
        "[3 rows x 4 columns]\n"
       ]
      }
     ],
     "prompt_number": 11
    },
    {
     "cell_type": "code",
     "collapsed": false,
     "input": [
      "print posts_ts.resample(\"D\", how=\"sum\").dropna()\n",
      "print\n",
      "print posts_ts[\"likes\"].resample(\"A\", how=\"sum\")"
     ],
     "language": "python",
     "metadata": {
      "slideshow": {
       "slide_type": "slide"
      }
     },
     "outputs": [
      {
       "output_type": "stream",
       "stream": "stdout",
       "text": [
        "            id  likes\n",
        "2014-01-01   6    724\n",
        "2014-01-02   4     42\n",
        "2014-02-04   5      6\n",
        "2014-04-15   6    512\n",
        "\n",
        "[4 rows x 2 columns]\n",
        "\n",
        "2014-12-31    1284\n",
        "Freq: A-DEC, Name: likes, dtype: int64\n"
       ]
      }
     ],
     "prompt_number": 12
    },
    {
     "cell_type": "code",
     "collapsed": false,
     "input": [
      "posts_waw = posts_ts.tz_localize(\"Europe/Warsaw\")\n",
      "print posts_waw\n",
      "\n",
      "print posts_waw.tz_convert(\"Asia/Shanghai\")"
     ],
     "language": "python",
     "metadata": {
      "slideshow": {
       "slide_type": "slide"
      }
     },
     "outputs": [
      {
       "output_type": "stream",
       "stream": "stdout",
       "text": [
        "                           id  likes           message            name\n",
        "2014-01-01 10:00:00+01:00   1     56            hello\u0142          Zbychu\n",
        "2014-01-01 13:37:00+01:00   2    666               NaN          Zbychu\n",
        "2014-01-01 15:35:00+01:00   3      2           panda 3  biedny student\n",
        "2014-01-02 19:42:00+01:00   4     42  veni, vidi, vici   julius_caesar\n",
        "2014-02-04 12:02:00+01:00   5      6  The die is cast.   julius_caesar\n",
        "2014-04-15 23:15:00+02:00   6    512         miau miau           kotek\n",
        "\n",
        "[6 rows x 4 columns]\n",
        "                           id  likes           message            name\n",
        "2014-01-01 17:00:00+08:00   1     56            hello\u0142          Zbychu\n",
        "2014-01-01 20:37:00+08:00   2    666               NaN          Zbychu\n",
        "2014-01-01 22:35:00+08:00   3      2           panda 3  biedny student\n",
        "2014-01-03 02:42:00+08:00   4     42  veni, vidi, vici   julius_caesar\n",
        "2014-02-04 19:02:00+08:00   5      6  The die is cast.   julius_caesar\n",
        "2014-04-16 05:15:00+08:00   6    512         miau miau           kotek\n",
        "\n",
        "[6 rows x 4 columns]\n"
       ]
      }
     ],
     "prompt_number": 13
    },
    {
     "cell_type": "code",
     "collapsed": true,
     "input": [
      "print posts_id.groupby(\"name\").sum()\n",
      "print\n",
      "print posts_id.groupby(\"name\")[\"name\"].count()"
     ],
     "language": "python",
     "metadata": {
      "slideshow": {
       "slide_type": "slide"
      }
     },
     "outputs": [
      {
       "output_type": "stream",
       "stream": "stdout",
       "text": [
        "                likes\n",
        "name                 \n",
        "Zbychu            722\n",
        "biedny student      2\n",
        "julius_caesar      48\n",
        "kotek             512\n",
        "\n",
        "[4 rows x 1 columns]\n",
        "\n",
        "name\n",
        "Zbychu            2\n",
        "biedny student    1\n",
        "julius_caesar     2\n",
        "kotek             1\n",
        "dtype: int64\n"
       ]
      }
     ],
     "prompt_number": 14
    },
    {
     "cell_type": "code",
     "collapsed": false,
     "input": [
      "for key, frame in posts_id.groupby(\"name\"):\n",
      "    print \"{} has {} likes!\".format(key, frame[\"likes\"].sum())"
     ],
     "language": "python",
     "metadata": {
      "slideshow": {
       "slide_type": "slide"
      }
     },
     "outputs": [
      {
       "output_type": "stream",
       "stream": "stdout",
       "text": [
        "Zbychu has 722 likes!\n",
        "biedny student has 2 likes!\n",
        "julius_caesar has 48 likes!\n",
        "kotek has 512 likes!\n"
       ]
      }
     ],
     "prompt_number": 15
    },
    {
     "cell_type": "code",
     "collapsed": false,
     "input": [
      "%matplotlib inline\n",
      "\n",
      "by_likes = posts_ts.set_index(\"id\").sort()\n",
      "\n",
      "plot = by_likes[\"likes\"].plot(kind=\"barh\", legend=True, title=\"Likes by post id\")"
     ],
     "language": "python",
     "metadata": {},
     "outputs": [
      {
       "metadata": {},
       "output_type": "display_data",
       "png": "[encoded data removed]",
       "text": [
        "<matplotlib.figure.Figure at 0x4c79290>"
       ]
      }
     ],
     "prompt_number": 16
    },
    {
     "cell_type": "markdown",
     "metadata": {
      "slideshow": {
       "slide_type": "slide"
      }
     },
     "source": [
      "# Moje wnioski (1)\n",
      "\n",
      "----"
     ]
    },
    {
     "cell_type": "markdown",
     "metadata": {
      "slideshow": {
       "slide_type": "fragment"
      }
     },
     "source": [
      "* pandas everywhere!!!!11"
     ]
    },
    {
     "cell_type": "markdown",
     "metadata": {
      "slideshow": {
       "slide_type": "fragment"
      }
     },
     "source": [
      "* nigdy wi\u0119cej \"r\u0119cznej\" obr\u00f3bki danych"
     ]
    },
    {
     "cell_type": "code",
     "collapsed": false,
     "input": [
      "import csv\n",
      "\n",
      "def the_manual_way():\n",
      "    with open(\"data.csv\") as f:\n",
      "        reader = csv.reader(f)\n",
      "        data = []\n",
      "\n",
      "        for row in reader:\n",
      "            data.append({\"ts\": parse(row[0]), \"name\": row[1]})\n",
      "            print \"I wish I've known pandas\"\n",
      "\n",
      "    # ... furious data wrangling ...        "
     ],
     "language": "python",
     "metadata": {},
     "outputs": [],
     "prompt_number": 17
    },
    {
     "cell_type": "code",
     "collapsed": false,
     "input": [
      "import pandas\n",
      "\n",
      "def the_pandas_way():\n",
      "    data = pandas.read_csv(\"data.csv\")\n",
      "\n",
      "    # use pandas, Luke!\n",
      "    data.set_index(\"ts\").sort()[\"2014-01-01\":].groupby(\"name\")[\"likes\"].sum()"
     ],
     "language": "python",
     "metadata": {},
     "outputs": [],
     "prompt_number": 18
    },
    {
     "cell_type": "markdown",
     "metadata": {
      "slideshow": {
       "slide_type": "slide"
      }
     },
     "source": [
      "# Moje wnioski (2)\n",
      "\n",
      "----"
     ]
    },
    {
     "cell_type": "markdown",
     "metadata": {
      "slideshow": {
       "slide_type": "fragment"
      }
     },
     "source": [
      "* pandas nie rozwi\u0105zuje wszystkich problem\u00f3w\n",
      "    * struktura\n",
      "    * agregaty\n",
      "    * nietrywialna logika"
     ]
    },
    {
     "cell_type": "markdown",
     "metadata": {
      "slideshow": {
       "slide_type": "fragment"
      }
     },
     "source": [
      "* ogrom funkcjonalno\u015bci"
     ]
    },
    {
     "cell_type": "markdown",
     "metadata": {
      "slideshow": {
       "slide_type": "fragment"
      }
     },
     "source": [
      "* API: unika\u0107 przeliczania \"online\""
     ]
    },
    {
     "cell_type": "markdown",
     "metadata": {
      "slideshow": {
       "slide_type": "fragment"
      }
     },
     "source": [
      "* lepiej pracuje si\u0119 z \"gotowym\" datasetem"
     ]
    },
    {
     "cell_type": "markdown",
     "metadata": {
      "slideshow": {
       "slide_type": "fragment"
      }
     },
     "source": [
      "* pre-agregacja\n",
      "\n",
      "* sp\u00f3jny model danych"
     ]
    },
    {
     "cell_type": "markdown",
     "metadata": {
      "slideshow": {
       "slide_type": "slide"
      }
     },
     "source": [
      "# Referencje\n",
      "\n",
      "----\n",
      "\n",
      "* pandas: [http://pandas.pydata.org/](http://pandas.pydata.org/)\n",
      "* pandas cookbook: [http://pandas.pydata.org/pandas-docs/stable/cookbook.html](http://pandas.pydata.org/pandas-docs/stable/cookbook.html)\n",
      "* Wes McKinney - Python for Data Analysis (ksi\u0105\u017cka autora pandas)\n",
      "  [http://shop.oreilly.com/product/0636920023784.do](http://shop.oreilly.com/product/0636920023784.do)\n",
      "  \n",
      "  ![](http://akamaicovers.oreilly.com/images/0636920023784/cat.gif)\n",
      "  \n",
      "# Przydatne linki, tutoriale\n",
      "\n",
      "* [Timeseries with pandas](http://nbviewer.ipython.org/github/changhiskhan/talks/blob/master/pydata2012/pandas_timeseries.ipynb)\n",
      "* [Learn pandas](https://bitbucket.org/hrojas/learn-pandas)"
     ]
    },
    {
     "cell_type": "markdown",
     "metadata": {
      "slideshow": {
       "slide_type": "slide"
      }
     },
     "source": [
      "# Linki\n",
      "\n",
      "----\n",
      "\n",
      "Prezentacja dost\u0119pna pod adresem: [http://pawroman.github.io/pywaw-pandas/](http://pawroman.github.io/pywaw-pandas/)\n",
      "\n",
      "Wpisy na blogu: [http://piesnakod.pl/tag/pandas/](http://piesnakod.pl/tag/pandas/)\n",
      "\n",
      "Kod prezentacji: [https://github.com/pawroman/pywaw-pandas](https://github.com/pawroman/pywaw-pandas)\n",
      "\n",
      "<hr>\n",
      "\n",
      "Wykonano w IPython notebook [http://ipython.org/notebook](http://ipython.org/notebook)"
     ]
    },
    {
     "cell_type": "markdown",
     "metadata": {
      "slideshow": {
       "slide_type": "slide"
      }
     },
     "source": [
      "# Dzi\u0119kuj\u0119\n",
      "\n",
      "----\n",
      "\n",
      "<br/>\n",
      "\n",
      "Pawe\u0142 Romanowski - [http://github.com/pawroman](http://github.com/pawroman)\n",
      "\n",
      "<br/>\n",
      "\n",
      "![](img/daftcode.png)\n",
      "\n",
      "[http://daftcode.pl](http://daftcode.pl)"
     ]
    }
   ],
   "metadata": {}
  }
 ]
}